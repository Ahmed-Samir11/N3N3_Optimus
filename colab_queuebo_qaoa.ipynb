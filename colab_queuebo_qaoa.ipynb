{
 "cells": [
  {
   "cell_type": "markdown",
   "id": "1963abaa",
   "metadata": {},
   "source": [
    "# QueueBo — Canonical Colab notebook moved to `quantum/`\n",
    "\n",
    "To avoid duplicates this lightweight placeholder was left at repository root. The canonical,\n",
    "runnable notebook lives at `quantum/colab_queuebo_qaoa.ipynb`. Open that notebook in Colab\n",
    "to reproduce the QAOA demo (it installs compatible Qiskit versions and runs the QueueBo example).\n",
    "\n",
    "If you need me to restore the original full notebook at root, tell me and I will copy it back."
   ]
  }
 ],
 "metadata": {
  "language_info": {
   "name": "python"
  }
 },
 "nbformat": 4,
 "nbformat_minor": 5
}
